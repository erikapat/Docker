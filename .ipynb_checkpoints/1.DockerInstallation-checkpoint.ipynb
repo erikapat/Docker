{
 "cells": [
  {
   "cell_type": "markdown",
   "metadata": {},
   "source": [
    "## **Docker**\n",
    "\n",
    "An application inside a container can run on any system that has docker installed. so, there is no need to build and configure the application multiple times on diffrent platforms.\n",
    "\n",
    "The workflow is the following:\n",
    "\n",
    "1. A developer creates a Dockerfile, which is a document with series of steps that describes the necessary requirements of the container that you want to create for your application (dependencies, packages, etc).\n",
    "2. The Docker file will be used to create a Docker image that serves to create the Docker container.\n",
    "3. Later you upload the container to Docker Hub repo.\n",
    "4. From the docker hub repo, you can pull your images and use the images in different OS."
   ]
  },
  {
   "cell_type": "markdown",
   "metadata": {},
   "source": [
    "![alt text](fig/docker.png \"Title\")"
   ]
  },
  {
   "cell_type": "markdown",
   "metadata": {},
   "source": [
    "## **Terminology**\n",
    "\n",
    "Some terminology that is used frequently in the Docker ecosystem.\n",
    "\n",
    "* **Images** - The blueprints of our application which form the basis of containers. \n",
    "* **Containers** - Created from Docker images and run the actual application. We create a container using docker run which we did using the busybox image that we downloaded. A list of running containers can be seen using the docker ps command.\n",
    "* **Docker Daemon** - The background service running on the host that manages building, running and distributing Docker containers. The daemon is the process that runs in the operating system to which clients talk to.\n",
    "* **Docker Client** - The command line tool that allows the user to interact with the daemon. More generally, there can be other forms of clients too - such as Kitematic which provide a GUI to the users.\n",
    "* **Docker Hub** - A registry of Docker images. You can think of the registry as a directory of all available Docker images. If required, one can host their own Docker registries and can use them for pulling images."
   ]
  },
  {
   "cell_type": "markdown",
   "metadata": {},
   "source": [
    "## **Docker installation**\n",
    "\n",
    "* **Connect to linux:**  we use a linux instance in aws, select ubuntu or linux and launch instance.\n",
    "\n",
    "Using the command, gives you the operation system that you are using\n",
    "> `$ uname -r`\n",
    "\n",
    "![alt text](fig/os.png \"Title\")\n",
    "\n",
    "* **Install Docker:** get info from https://docs.docker.com/v17.12/manuals/ and see the instructions for each OS.\n",
    "\n",
    "We proceed to install docker in ubuntu (https://docs.docker.com/v17.12/install/linux/docker-ee/ubuntu/#os-requirements), using the following commands in the terminal:\n",
    "\n",
    "> Run \n",
    "\n",
    ">`$ sudo apt-get update`\n",
    "\n",
    "> Verify if there is some version of Docker: `$docker`\n",
    "\n",
    "> Uninstall old versions of Docker: \n",
    "\n",
    ">`$ sudo apt-get remove docker docker-engine docker-ce docker.io` \n",
    "\n",
    "> and delete all the images, containers, etc with \n",
    "\n",
    ">`$ sudo rm -rf /var/lib/docker`\n",
    "\n",
    "> There are different versions of Docker, the updated version is automatically installed with \n",
    "\n",
    ">`$ sudo apt install docker.io`\n",
    "\n",
    "But depending of the docker repos that you have the updated version is not the suitable version. If you want to install other version look the web-page for instructions.\n",
    "\n",
    "> Other commands for installation \n",
    "\n",
    ">`$ sudo snap install docker` and `$sudo apt  install docker.io` \n",
    "\n",
    "> Verify the installation: \n",
    "\n",
    ">`$ clear`\n",
    "\n",
    ">`$ docker` \n",
    "\n",
    "> Look version and info: \n",
    "\n",
    ">`$ docker --version` \n",
    "\n",
    "> and \n",
    "\n",
    ">`$ sudo docker info`. \n",
    "\n",
    "Docker info inform us that there are not service running. \n",
    "\n",
    "\n",
    "So, we have to configure it.\n",
    "\n",
    "* **Start docker:**\n",
    "\n",
    "> `$ sudo service docker start` \n",
    "> or `$ sudo systemctl start docker` + `$ sudo systemctl enable docker`\n",
    "\n",
    "> **To avoid to use sudo before the word docker** we create a docker group: \n",
    "\n",
    ">`$ sudo groupadd docker` \n",
    "\n",
    ">`$ sudo usermod -aG docker $USER` (in my case $USER = ubuntu, see image (above) of the terminal to understand) + `$ newgrp - docker`\n",
    "\n",
    "> If the above lines do not work, you would have to use `sudo` before all the docker commands.\n",
    "\n",
    "> Then check with \n",
    "\n",
    ">`$ docker run hello-world` --> docker image (that docker will download)\n",
    "\n",
    "> Sometimes may be necessary to restart docker `sudo systemctl restart docker`\n",
    "\n",
    "* **Docker commands:**\n",
    "\n",
    "> `$ docker images` --> show all the images, should apper hello-world image\n",
    "\n",
    "> `$ docker ps` (show containers that are running) or \n",
    "\n",
    "> `$ docker ps -a` (to show all containers) with \n",
    "\n",
    "> `$ docker ps -a` should appear the docker container hello-world \n",
    "\n",
    "* **Stop Docker:**\n",
    "\n",
    "> `$ sudo systemctl docker stop`\n",
    "\n",
    "* **Uninstall Docker:**\n",
    "\n",
    "> See instructions above."
   ]
  },
  {
   "cell_type": "markdown",
   "metadata": {},
   "source": [
    "## **Deleting containers**\n",
    "\n",
    "Throughout this tutorial, you'll run docker run multiple times and leaving stray containers will eat up disk space. Hence, as a rule of thumb, I clean up containers once I'm done with them. To do that, you can run the docker `rm` command.\n",
    "\n",
    "See the available dockers\n",
    "\n",
    "`sudo docker ps -a`\n",
    "\n",
    "Erase them\n",
    "\n",
    "`sudo docker rm 305297d7a235 ff0a5c3750b9`"
   ]
  },
  {
   "cell_type": "markdown",
   "metadata": {},
   "source": [
    "## **References**\n",
    "\n",
    "* Basic videos from: [here](https://www.youtube.com/channel/UCTt7pyY-o0eltq14glaG5dg)"
   ]
  },
  {
   "cell_type": "code",
   "execution_count": null,
   "metadata": {},
   "outputs": [],
   "source": []
  },
  {
   "cell_type": "code",
   "execution_count": null,
   "metadata": {},
   "outputs": [],
   "source": []
  }
 ],
 "metadata": {
  "kernelspec": {
   "display_name": "Python 3",
   "language": "python",
   "name": "python3"
  },
  "language_info": {
   "codemirror_mode": {
    "name": "ipython",
    "version": 3
   },
   "file_extension": ".py",
   "mimetype": "text/x-python",
   "name": "python",
   "nbconvert_exporter": "python",
   "pygments_lexer": "ipython3",
   "version": "3.7.4"
  }
 },
 "nbformat": 4,
 "nbformat_minor": 4
}
