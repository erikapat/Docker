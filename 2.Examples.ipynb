{
 "cells": [
  {
   "cell_type": "markdown",
   "metadata": {},
   "source": [
    "## **Docker**"
   ]
  },
  {
   "cell_type": "markdown",
   "metadata": {},
   "source": [
    "In this example we will put a jupyter notebook with their requirements in a dockerfile.\n",
    "\n",
    "The structure of the project would be like the following:\n",
    "\n",
    "![alt text](fig/files.png \"Title\")"
   ]
  },
  {
   "cell_type": "markdown",
   "metadata": {},
   "source": [
    "* The  **module.py** file does the heavy lifting—it’s what you spent all your time developing. Cleaning the data and training the model is the task of the **module.py** file. In order to use it, we’ll want to run those functions in the Docker container. Running it in the container ensures that the process is truly repeatable and provides an important quality control check. To make sure we can do this, the one piece we still need is a requirements.txt file (or Pipfile, if you use Pipenv). If you don’t have one (as above), you can run pip freeze > requirements.txt\n",
    "* The **notebooks** folder contains just a walkthrough of the analysis and visualization that you want to be runnable for an audience who want to poke around. * The **raw data** is in the data folder. \n",
    "\n",
    "This isn’t the best way to organize a python module, especially if it’s under active development using a notebook, but it represents a pretty common pattern for showing off work I’ve done."
   ]
  },
  {
   "cell_type": "markdown",
   "metadata": {},
   "source": [
    "## **STEPS**\n",
    "\n",
    "**1. Start with a Dockerfile**\n",
    "\n",
    "Create a Dockerfile (just name the file Dockerfile) in the same folder as the module.py file.\n",
    "\n",
    "![alt text](fig/dockerfile.png \"Title\")\n",
    "\n",
    "**2. Build a docker container**\n",
    "\n",
    "Run the dockerfile locally to be sure that it works. To run it, you first have to build it. Use the -t tag to save it as a name in your local system. Once you’ve finished verifying that it will work, you can also **push** it up to an account on **Docker Hub**. Type this into your terminal (and don’t forget the dot at the end).\n",
    "\n",
    "> `$docker build -t myaccount/new_project .`\n",
    "\n",
    "**3. Start the Jupyter notebook and log in**\n",
    "\n",
    "After that finishes building, you can test out the notebook. The -p tag here is important—you will need to connect the port that the notebook is running on inside the container with your local machine.\n",
    "\n",
    "> `docker run -p 8888:8888 myaccount/new_project`\n",
    "\n",
    "**4. Push up the container to Docker Hub**\n",
    "> `docker push myaccount/new_project`\n",
    "\n",
    "**5. Pull up the container to Docker Hub**\n",
    "docker pull myaccount/new_project\n",
    "\n",
    "> `docker run -p 8888:8888 myaccount/new_projec``"
   ]
  },
  {
   "cell_type": "markdown",
   "metadata": {},
   "source": [
    "## **References**\n",
    "\n",
    "* The Full Stack Data Scientist Part 2: A Practical Introduction to Docker [< here >](https://medium.com/applied-data-science/the-full-stack-data-scientist-part-2-a-practical-introduction-to-docker-1ea932c89b57).\n",
    "\n",
    "* Learn to build and deploy your distributed applications easily to the cloud with Docker [< here >](https://docker-curriculum.com/).\n",
    "\n",
    "* How to Put Jupyter Notebooks in a Dockerfile [< here >](https://u.group/thinking/how-to-put-jupyter-notebooks-in-a-dockerfile/)."
   ]
  },
  {
   "cell_type": "code",
   "execution_count": null,
   "metadata": {},
   "outputs": [],
   "source": []
  },
  {
   "cell_type": "code",
   "execution_count": null,
   "metadata": {},
   "outputs": [],
   "source": []
  }
 ],
 "metadata": {
  "kernelspec": {
   "display_name": "Python 3",
   "language": "python",
   "name": "python3"
  },
  "language_info": {
   "codemirror_mode": {
    "name": "ipython",
    "version": 3
   },
   "file_extension": ".py",
   "mimetype": "text/x-python",
   "name": "python",
   "nbconvert_exporter": "python",
   "pygments_lexer": "ipython3",
   "version": "3.7.4"
  }
 },
 "nbformat": 4,
 "nbformat_minor": 4
}
