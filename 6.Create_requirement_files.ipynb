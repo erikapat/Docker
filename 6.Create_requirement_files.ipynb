{
 "cells": [
  {
   "cell_type": "markdown",
   "metadata": {},
   "source": [
    "# **Conda Enviroments**\n",
    "\n",
    "## REQUIREMENTS\n",
    "\n",
    "Save all the versions of the packages installed."
   ]
  },
  {
   "cell_type": "code",
   "execution_count": 1,
   "metadata": {},
   "outputs": [],
   "source": [
    "## see all the installed packages\n",
    "#!python -m pip install freeze\n",
    "#import freeze\n",
    "from pip._internal.operations.freeze import freeze"
   ]
  },
  {
   "cell_type": "code",
   "execution_count": 1,
   "metadata": {},
   "outputs": [
    {
     "name": "stdout",
     "output_type": "stream",
     "text": [
      "numpy==1.17.4\n",
      "numpydoc==0.9.1\n",
      "Note: you may need to restart the kernel to use updated packages.\n"
     ]
    }
   ],
   "source": [
    "pip freeze | grep numpy"
   ]
  },
  {
   "cell_type": "code",
   "execution_count": 3,
   "metadata": {},
   "outputs": [
    {
     "name": "stdout",
     "output_type": "stream",
     "text": [
      "Note: you may need to restart the kernel to use updated packages.\n"
     ]
    }
   ],
   "source": [
    "pip freeze > requirements.txt"
   ]
  },
  {
   "cell_type": "code",
   "execution_count": 2,
   "metadata": {},
   "outputs": [
    {
     "name": "stdout",
     "output_type": "stream",
     "text": [
      "\n",
      "Note: you may need to restart the kernel to use updated packages.\n"
     ]
    }
   ],
   "source": [
    "conda list --export > requirements.txt"
   ]
  },
  {
   "cell_type": "markdown",
   "metadata": {},
   "source": [
    "## **Additional analysis**"
   ]
  },
  {
   "cell_type": "code",
   "execution_count": 7,
   "metadata": {},
   "outputs": [
    {
     "name": "stdout",
     "output_type": "stream",
     "text": [
      "Requirement already satisfied: numpy in /Users/erikapat/anaconda3/lib/python3.7/site-packages (from -r requirements.txt (line 2)) (1.17.1)\n",
      "\u001b[33mWARNING: You are using pip version 19.2.2, however version 19.3.1 is available.\n",
      "You should consider upgrading via the 'pip install --upgrade pip' command.\u001b[0m\n"
     ]
    }
   ],
   "source": [
    "# install packages in the .txt\n",
    "#!pip install -r requirements.txt"
   ]
  },
  {
   "cell_type": "code",
   "execution_count": 3,
   "metadata": {},
   "outputs": [
    {
     "name": "stdout",
     "output_type": "stream",
     "text": [
      "Collecting package metadata (current_repodata.json): done\n",
      "Solving environment: done\n",
      "\n",
      "## Package Plan ##\n",
      "\n",
      "  environment location: /Users/erikapat/anaconda3/envs/example\n",
      "\n",
      "  added / updated specs:\n",
      "    - numpy\n",
      "\n",
      "\n",
      "The following packages will be downloaded:\n",
      "\n",
      "    package                    |            build\n",
      "    ---------------------------|-----------------\n",
      "    ca-certificates-2019.11.27 |                0         131 KB\n",
      "    certifi-2019.11.28         |           py38_0         156 KB\n",
      "    mkl-service-2.3.0          |   py38hfbe908c_0          46 KB\n",
      "    mkl_fft-1.0.15             |   py38h5e564d8_0         138 KB\n",
      "    mkl_random-1.1.0           |   py38h6440ff4_0           5 KB\n",
      "    numpy-1.17.4               |   py38h890c691_0           4 KB\n",
      "    numpy-base-1.17.4          |   py38h6575580_0         3.9 MB\n",
      "    pip-19.3.1                 |           py38_0         1.9 MB\n",
      "    python-3.8.0               |       h359304d_2        22.6 MB\n",
      "    setuptools-42.0.2          |           py38_0         656 KB\n",
      "    six-1.13.0                 |           py38_0          27 KB\n",
      "    sqlite-3.30.1              |       ha441bb4_0         2.4 MB\n",
      "    wheel-0.33.6               |           py38_0          35 KB\n",
      "    ------------------------------------------------------------\n",
      "                                           Total:        32.0 MB\n",
      "\n",
      "The following NEW packages will be INSTALLED:\n",
      "\n",
      "  blas               pkgs/main/osx-64::blas-1.0-mkl\n",
      "  ca-certificates    pkgs/main/osx-64::ca-certificates-2019.11.27-0\n",
      "  certifi            pkgs/main/osx-64::certifi-2019.11.28-py38_0\n",
      "  intel-openmp       pkgs/main/osx-64::intel-openmp-2019.4-233\n",
      "  libcxx             pkgs/main/osx-64::libcxx-4.0.1-hcfea43d_1\n",
      "  libcxxabi          pkgs/main/osx-64::libcxxabi-4.0.1-hcfea43d_1\n",
      "  libedit            pkgs/main/osx-64::libedit-3.1.20181209-hb402a30_0\n",
      "  libffi             pkgs/main/osx-64::libffi-3.2.1-h475c297_4\n",
      "  libgfortran        pkgs/main/osx-64::libgfortran-3.0.1-h93005f0_2\n",
      "  mkl                pkgs/main/osx-64::mkl-2019.4-233\n",
      "  mkl-service        pkgs/main/osx-64::mkl-service-2.3.0-py38hfbe908c_0\n",
      "  mkl_fft            pkgs/main/osx-64::mkl_fft-1.0.15-py38h5e564d8_0\n",
      "  mkl_random         pkgs/main/osx-64::mkl_random-1.1.0-py38h6440ff4_0\n",
      "  ncurses            pkgs/main/osx-64::ncurses-6.1-h0a44026_1\n",
      "  numpy              pkgs/main/osx-64::numpy-1.17.4-py38h890c691_0\n",
      "  numpy-base         pkgs/main/osx-64::numpy-base-1.17.4-py38h6575580_0\n",
      "  openssl            pkgs/main/osx-64::openssl-1.1.1d-h1de35cc_3\n",
      "  pip                pkgs/main/osx-64::pip-19.3.1-py38_0\n",
      "  python             pkgs/main/osx-64::python-3.8.0-h359304d_2\n",
      "  readline           pkgs/main/osx-64::readline-7.0-h1de35cc_5\n",
      "  setuptools         pkgs/main/osx-64::setuptools-42.0.2-py38_0\n",
      "  six                pkgs/main/osx-64::six-1.13.0-py38_0\n",
      "  sqlite             pkgs/main/osx-64::sqlite-3.30.1-ha441bb4_0\n",
      "  tk                 pkgs/main/osx-64::tk-8.6.8-ha441bb4_0\n",
      "  wheel              pkgs/main/osx-64::wheel-0.33.6-py38_0\n",
      "  xz                 pkgs/main/osx-64::xz-5.2.4-h1de35cc_4\n",
      "  zlib               pkgs/main/osx-64::zlib-1.2.11-h1de35cc_3\n",
      "\n",
      "\n",
      "Proceed ([y]/n)? ^C\n",
      "\n",
      "CondaSystemExit: \n",
      "Operation aborted.  Exiting.\n",
      "\n"
     ]
    }
   ],
   "source": [
    "#When you are ready to distribute your package to other users, \n",
    "#they can easily duplicate your environment and \n",
    "#the associated dependencies with \n",
    "\n",
    "#conda create --name <envname> --file requirements.txt\n",
    "\n",
    "!conda create --name example --file requirements.txt"
   ]
  },
  {
   "cell_type": "code",
   "execution_count": null,
   "metadata": {},
   "outputs": [],
   "source": [
    "# Activate the enviroment:\n",
    "\n",
    "#Close jupyter:\n",
    "\n",
    "#conda create -n env_name \n",
    "#source activate env_name\n",
    "\n",
    "#conda info --envs #indicate the environments that are available and with a * the enviroment that is selected\n",
    "#source activate example #the asteriscs(*) should be now on example\n",
    "\n",
    "# Jupiter lab env:\n",
    "#pip install --user ipykernel\n",
    "#python -m ipykernel install --user --name=env_name\n"
   ]
  },
  {
   "cell_type": "code",
   "execution_count": null,
   "metadata": {},
   "outputs": [],
   "source": [
    "# eliminate conda enviroments\n",
    "#conda env list\n",
    "#conda remove --name xeus-cling --all"
   ]
  },
  {
   "cell_type": "markdown",
   "metadata": {},
   "source": [
    "## **REFERENCES**\n",
    "\n",
    "* Conda enviroment: https://docs.conda.io/projects/conda/en/4.6.0/_downloads/52a95608c49671267e40c689e0bc00ca/conda-cheatsheet.pdf\n",
    "* Conf conda enviroments in jupyter: https://janakiev.com/blog/jupyter-virtual-envs/\n"
   ]
  },
  {
   "cell_type": "code",
   "execution_count": null,
   "metadata": {},
   "outputs": [],
   "source": []
  }
 ],
 "metadata": {
  "kernelspec": {
   "display_name": "Python 3",
   "language": "python",
   "name": "python3"
  },
  "language_info": {
   "codemirror_mode": {
    "name": "ipython",
    "version": 3
   },
   "file_extension": ".py",
   "mimetype": "text/x-python",
   "name": "python",
   "nbconvert_exporter": "python",
   "pygments_lexer": "ipython3",
   "version": "3.7.4"
  }
 },
 "nbformat": 4,
 "nbformat_minor": 4
}
